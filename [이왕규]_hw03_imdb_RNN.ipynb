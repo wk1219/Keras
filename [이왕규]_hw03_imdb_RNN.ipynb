{
  "nbformat": 4,
  "nbformat_minor": 0,
  "metadata": {
    "colab": {
      "name": "Colaboratory에 오신 것을 환영합니다의 사본",
      "version": "0.3.2",
      "provenance": [],
      "collapsed_sections": [],
      "include_colab_link": true
    },
    "kernelspec": {
      "name": "python3",
      "display_name": "Python 3"
    },
    "accelerator": "GPU"
  },
  "cells": [
    {
      "cell_type": "markdown",
      "metadata": {
        "id": "view-in-github",
        "colab_type": "text"
      },
      "source": [
        "<a href=\"https://colab.research.google.com/github/wk1219/Keras/blob/master/%5B%EC%9D%B4%EC%99%95%EA%B7%9C%5D_hw03_imdb_RNN.ipynb\" target=\"_parent\"><img src=\"https://colab.research.google.com/assets/colab-badge.svg\" alt=\"Open In Colab\"/></a>"
      ]
    },
    {
      "cell_type": "markdown",
      "metadata": {
        "id": "bCbhokANO5zY",
        "colab_type": "text"
      },
      "source": [
        "데이터셋 준비 \n",
        "IMDB에서 제공하는 영화 리뷰 데이터셋 이용"
      ]
    },
    {
      "cell_type": "markdown",
      "metadata": {
        "id": "HpK26nnRviSr",
        "colab_type": "text"
      },
      "source": [
        "## IMDB 데이터셋\n",
        "\n",
        "--> 인터넷 영화 데이터베이스로부터 가져온 양극단의 리뷰 5만 개. \n",
        "<br>훈련 데이터 25000개, 테스트 데이터 25000개로 나뉘고 각각 50%는 부정, 50%는 긍정 리뷰로 구성됨."
      ]
    },
    {
      "cell_type": "markdown",
      "metadata": {
        "id": "HGxdlDEiwgJi",
        "colab_type": "text"
      },
      "source": [
        "## 1. 데이터셋 생성\n",
        "\n",
        "훈련 데이터 25000개를 훈련 데이터 20000개, 검증 데이터 5000개로 분리 \n",
        "\n",
        "분리 후 리뷰의 길이를 맞춰주기 위해 sequence를 사용하여 padding으로 0을 채워주거나 단어 길이의 최대값이 넘어가지 않도록 잘라내어 조정함."
      ]
    },
    {
      "cell_type": "code",
      "metadata": {
        "id": "olrVqV8SwkmY",
        "colab_type": "code",
        "colab": {}
      },
      "source": [
        "from keras.datasets import imdb\n",
        "from keras.preprocessing import sequence\n",
        "from keras.models import Sequential\n",
        "from keras.layers import Flatten\n",
        "import numpy as np\n",
        "\n",
        "np_load_old = np.load\n",
        "np.load = lambda *a,**k: np_load_old(*a, allow_pickle=True, **k)\n",
        "(x_train, y_train), (x_test, y_test) = imdb.load_data(num_words=20000)\n",
        "np.load = np_load_old\n",
        "\n",
        "x_val = x_train[20000:]\n",
        "y_val = y_train[20000:]\n",
        "x_train = x_train[:20000]\n",
        "y_train = y_train[:20000]\n",
        "\n",
        "x_train = sequence.pad_sequences(x_train, maxlen=text_max_words)\n",
        "x_val = sequence.pad_sequences(x_val, maxlen=text_max_words)\n",
        "x_test = sequence.pad_sequences(x_test, maxlen=text_max_words)"
      ],
      "execution_count": 0,
      "outputs": []
    },
    {
      "cell_type": "markdown",
      "metadata": {
        "id": "f2IF_zk0w9UK",
        "colab_type": "text"
      },
      "source": [
        "## 2. 모델 구성\n",
        "순환 신경망 모델 구성\n",
        "<br>순환 신경망(RNN) : 시퀀스 모델, 입력과 출력을 시퀀스로 처리하는 모델이며,  시퀀스의 원소를 순회하면서 지금까지 처리한 정보를 상태에 저장."
      ]
    },
    {
      "cell_type": "code",
      "metadata": {
        "id": "jmD9zVD_FsRQ",
        "colab_type": "code",
        "colab": {
          "base_uri": "https://localhost:8080/",
          "height": 263
        },
        "outputId": "830b2369-741e-41e1-a6c4-9a022bce4c42"
      },
      "source": [
        "model = Sequential()\n",
        "model.add(Embedding(max_features, 128))\n",
        "model.add(CuDNNLSTM(128))\n",
        "model.add(Dense(1, activation='sigmoid'))\n",
        "print(model.summary())"
      ],
      "execution_count": 11,
      "outputs": [
        {
          "output_type": "stream",
          "text": [
            "_________________________________________________________________\n",
            "Layer (type)                 Output Shape              Param #   \n",
            "=================================================================\n",
            "embedding_3 (Embedding)      (None, None, 128)         2560000   \n",
            "_________________________________________________________________\n",
            "cu_dnnlstm_3 (CuDNNLSTM)     (None, 128)               132096    \n",
            "_________________________________________________________________\n",
            "dense_3 (Dense)              (None, 1)                 129       \n",
            "=================================================================\n",
            "Total params: 2,692,225\n",
            "Trainable params: 2,692,225\n",
            "Non-trainable params: 0\n",
            "_________________________________________________________________\n",
            "None\n"
          ],
          "name": "stdout"
        }
      ]
    },
    {
      "cell_type": "markdown",
      "metadata": {
        "id": "5Mfm4juEH7lC",
        "colab_type": "text"
      },
      "source": [
        "## 3. 모델 학습과정 설정\n"
      ]
    },
    {
      "cell_type": "code",
      "metadata": {
        "id": "Cnk4h7oUICoC",
        "colab_type": "code",
        "colab": {}
      },
      "source": [
        "model.compile(loss='binary_crossentropy', optimizer='adam', metrics=['accuracy'])"
      ],
      "execution_count": 0,
      "outputs": []
    },
    {
      "cell_type": "markdown",
      "metadata": {
        "id": "hTaMdXOYIHBi",
        "colab_type": "text"
      },
      "source": [
        "## 4. 모델 학습"
      ]
    },
    {
      "cell_type": "code",
      "metadata": {
        "id": "j__fGlo5IPRx",
        "colab_type": "code",
        "colab": {
          "base_uri": "https://localhost:8080/",
          "height": 934
        },
        "outputId": "d113036e-a998-4958-b998-6baf039ffc32"
      },
      "source": [
        "hist = model.fit(x_train, y_train, epochs=25, batch_size=64, validation_data=(x_val, y_val))"
      ],
      "execution_count": 8,
      "outputs": [
        {
          "output_type": "stream",
          "text": [
            "Train on 20000 samples, validate on 5000 samples\n",
            "Epoch 1/25\n",
            "20000/20000 [==============================] - 6s 299us/step - loss: 0.4862 - acc: 0.7624 - val_loss: 0.4350 - val_acc: 0.8058\n",
            "Epoch 2/25\n",
            "20000/20000 [==============================] - 5s 267us/step - loss: 0.2606 - acc: 0.8972 - val_loss: 0.3431 - val_acc: 0.8546\n",
            "Epoch 3/25\n",
            "20000/20000 [==============================] - 5s 261us/step - loss: 0.1521 - acc: 0.9455 - val_loss: 0.3903 - val_acc: 0.8548\n",
            "Epoch 4/25\n",
            "20000/20000 [==============================] - 5s 262us/step - loss: 0.0947 - acc: 0.9669 - val_loss: 0.5068 - val_acc: 0.8718\n",
            "Epoch 5/25\n",
            "20000/20000 [==============================] - 5s 261us/step - loss: 0.0660 - acc: 0.9790 - val_loss: 0.4741 - val_acc: 0.8518\n",
            "Epoch 6/25\n",
            "20000/20000 [==============================] - 5s 261us/step - loss: 0.0507 - acc: 0.9825 - val_loss: 0.6943 - val_acc: 0.8472\n",
            "Epoch 7/25\n",
            "20000/20000 [==============================] - 5s 260us/step - loss: 0.0366 - acc: 0.9890 - val_loss: 0.5589 - val_acc: 0.8374\n",
            "Epoch 8/25\n",
            "20000/20000 [==============================] - 5s 262us/step - loss: 0.0231 - acc: 0.9927 - val_loss: 0.7023 - val_acc: 0.8174\n",
            "Epoch 9/25\n",
            "20000/20000 [==============================] - 5s 266us/step - loss: 0.0349 - acc: 0.9890 - val_loss: 0.6982 - val_acc: 0.8472\n",
            "Epoch 10/25\n",
            "20000/20000 [==============================] - 5s 273us/step - loss: 0.0156 - acc: 0.9956 - val_loss: 0.7367 - val_acc: 0.8440\n",
            "Epoch 11/25\n",
            "20000/20000 [==============================] - 6s 276us/step - loss: 0.0154 - acc: 0.9955 - val_loss: 0.9043 - val_acc: 0.8404\n",
            "Epoch 12/25\n",
            "20000/20000 [==============================] - 6s 275us/step - loss: 0.0237 - acc: 0.9925 - val_loss: 0.8316 - val_acc: 0.8308\n",
            "Epoch 13/25\n",
            "20000/20000 [==============================] - 6s 275us/step - loss: 0.0192 - acc: 0.9940 - val_loss: 0.7376 - val_acc: 0.8456\n",
            "Epoch 14/25\n",
            "20000/20000 [==============================] - 6s 276us/step - loss: 0.0078 - acc: 0.9980 - val_loss: 0.7757 - val_acc: 0.8130\n",
            "Epoch 15/25\n",
            "20000/20000 [==============================] - 5s 267us/step - loss: 0.0275 - acc: 0.9909 - val_loss: 0.7072 - val_acc: 0.8438\n",
            "Epoch 16/25\n",
            "20000/20000 [==============================] - 5s 264us/step - loss: 0.0138 - acc: 0.9955 - val_loss: 0.8510 - val_acc: 0.8194\n",
            "Epoch 17/25\n",
            "20000/20000 [==============================] - 5s 264us/step - loss: 0.0046 - acc: 0.9988 - val_loss: 0.8833 - val_acc: 0.8452\n",
            "Epoch 18/25\n",
            "20000/20000 [==============================] - 5s 263us/step - loss: 0.0023 - acc: 0.9995 - val_loss: 0.9785 - val_acc: 0.8546\n",
            "Epoch 19/25\n",
            "20000/20000 [==============================] - 5s 264us/step - loss: 2.1824e-04 - acc: 1.0000 - val_loss: 1.0307 - val_acc: 0.8496\n",
            "Epoch 20/25\n",
            "20000/20000 [==============================] - 5s 265us/step - loss: 9.0741e-05 - acc: 1.0000 - val_loss: 1.0765 - val_acc: 0.8496\n",
            "Epoch 21/25\n",
            "20000/20000 [==============================] - 5s 266us/step - loss: 5.3386e-05 - acc: 1.0000 - val_loss: 1.1264 - val_acc: 0.8528\n",
            "Epoch 22/25\n",
            "20000/20000 [==============================] - 5s 265us/step - loss: 3.8491e-05 - acc: 1.0000 - val_loss: 1.1515 - val_acc: 0.8528\n",
            "Epoch 23/25\n",
            "20000/20000 [==============================] - 5s 265us/step - loss: 2.8446e-05 - acc: 1.0000 - val_loss: 1.1823 - val_acc: 0.8528\n",
            "Epoch 24/25\n",
            "20000/20000 [==============================] - 5s 264us/step - loss: 2.1865e-05 - acc: 1.0000 - val_loss: 1.2088 - val_acc: 0.8528\n",
            "Epoch 25/25\n",
            "20000/20000 [==============================] - 5s 263us/step - loss: 1.7072e-05 - acc: 1.0000 - val_loss: 1.2335 - val_acc: 0.8528\n"
          ],
          "name": "stdout"
        }
      ]
    },
    {
      "cell_type": "markdown",
      "metadata": {
        "id": "JnkkXvqGITZS",
        "colab_type": "text"
      },
      "source": [
        "## 5. 학습과정 보기"
      ]
    },
    {
      "cell_type": "code",
      "metadata": {
        "id": "qbADlzRPIYmR",
        "colab_type": "code",
        "colab": {
          "base_uri": "https://localhost:8080/",
          "height": 283
        },
        "outputId": "e0ddeea0-7cf6-40f7-c2bb-de10c8a4f182"
      },
      "source": [
        "%matplotlib inline\n",
        "import matplotlib.pyplot as plt\n",
        "\n",
        "fig, loss_ax = plt.subplots()\n",
        "\n",
        "acc_ax = loss_ax.twinx()\n",
        "\n",
        "loss_ax.plot(hist.history['loss'], 'y', label='train loss')\n",
        "loss_ax.plot(hist.history['val_loss'], 'r', label='val loss')\n",
        "loss_ax.set_ylim([-0.2, 1.2])\n",
        "\n",
        "acc_ax.plot(hist.history['acc'], 'b', label='train acc')\n",
        "acc_ax.plot(hist.history['val_acc'], 'g', label='val acc')\n",
        "acc_ax.set_ylim([-0.2, 1.2])\n",
        "\n",
        "loss_ax.set_xlabel('epoch')\n",
        "loss_ax.set_ylabel('loss')\n",
        "acc_ax.set_ylabel('accuray')\n",
        "\n",
        "loss_ax.legend(loc='upper left')\n",
        "acc_ax.legend(loc='lower left')\n",
        "\n",
        "plt.show()\n"
      ],
      "execution_count": 9,
      "outputs": [
        {
          "output_type": "display_data",
          "data": {
            "image/png": "[encoded data removed]",
            "text/plain": [
              "<Figure size 432x288 with 2 Axes>"
            ]
          },
          "metadata": {
            "tags": []
          }
        }
      ]
    },
    {
      "cell_type": "markdown",
      "metadata": {
        "id": "aig29iJ0Icl-",
        "colab_type": "text"
      },
      "source": [
        "## 6. 모델 평가"
      ]
    },
    {
      "cell_type": "code",
      "metadata": {
        "id": "8Q83i0k4Ig_T",
        "colab_type": "code",
        "colab": {
          "base_uri": "https://localhost:8080/",
          "height": 316
        },
        "outputId": "ff4c935c-de5d-43fe-875a-ec5f314c2824"
      },
      "source": [
        "loss_and_metrics = model.evaluate(x_test, y_test, batch_size=64)\n",
        "print('## evaluation loss and_metrics ##')\n",
        "print(loss_and_metrics)"
      ],
      "execution_count": 10,
      "outputs": [
        {
          "output_type": "stream",
          "text": [
            "_________________________________________________________________\n",
            "Layer (type)                 Output Shape              Param #   \n",
            "=================================================================\n",
            "embedding_2 (Embedding)      (None, None, 128)         2560000   \n",
            "_________________________________________________________________\n",
            "cu_dnnlstm_2 (CuDNNLSTM)     (None, 128)               132096    \n",
            "_________________________________________________________________\n",
            "dense_2 (Dense)              (None, 1)                 129       \n",
            "=================================================================\n",
            "Total params: 2,692,225\n",
            "Trainable params: 2,692,225\n",
            "Non-trainable params: 0\n",
            "_________________________________________________________________\n",
            "None\n",
            "25000/25000 [==============================] - 3s 108us/step\n",
            "## evaluation loss and_metrics ##\n",
            "[1.3269836223602296, 0.8439999999809266]\n"
          ],
          "name": "stdout"
        }
      ]
    }
  ]
}